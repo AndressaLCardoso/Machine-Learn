{
  "nbformat": 4,
  "nbformat_minor": 0,
  "metadata": {
    "colab": {
      "provenance": [],
      "authorship_tag": "ABX9TyOE8uNEpY0Bo62s331dSU/3",
      "include_colab_link": true
    },
    "kernelspec": {
      "name": "python3",
      "display_name": "Python 3"
    },
    "language_info": {
      "name": "python"
    }
  },
  "cells": [
    {
      "cell_type": "markdown",
      "metadata": {
        "id": "view-in-github",
        "colab_type": "text"
      },
      "source": [
        "<a href=\"https://colab.research.google.com/github/AndressaLCardoso/Machine-Learning/blob/main/Modelos_de_Agrupamento_Clusteriza%C3%A7%C3%A3o.ipynb\" target=\"_parent\"><img src=\"https://colab.research.google.com/assets/colab-badge.svg\" alt=\"Open In Colab\"/></a>"
      ]
    },
    {
      "cell_type": "code",
      "execution_count": 1,
      "metadata": {
        "id": "0iHWKCwbHTEB"
      },
      "outputs": [],
      "source": [
        "# Modelos de Agrupamento Clusterização\n",
        "# Autor: Andressa Lira"
      ]
    },
    {
      "cell_type": "code",
      "source": [
        "# Importando as bibliotecas.\n",
        "from sklearn.cluster import KMeans\n",
        "from sklearn import metrics\n",
        "import numpy as np\n",
        "import matplotlib.pyplot as plt"
      ],
      "metadata": {
        "id": "MUlJf0LcIGKv"
      },
      "execution_count": 6,
      "outputs": []
    },
    {
      "cell_type": "code",
      "source": [
        "# Definindo o conjunto de Dados (Manipular)\n",
        "x1 = np.array([3, 1, 1, 2, 1, 6, 6, 6, 5, 6, 7, 8, 9, 8, 9, 9, 8])\n",
        "x2 = np.array([5, 4, 6, 6, 5, 8, 6, 7, 6, 7, 1, 2, 1, 2, 3, 2, 3])"
      ],
      "metadata": {
        "id": "SLYKjh8SIKRU"
      },
      "execution_count": 7,
      "outputs": []
    },
    {
      "cell_type": "code",
      "source": [
        "# Exibindo as informação em formato de gráfico para a análise.\n",
        "plt.plot()\n",
        "plt.xlim([0, 10])\n",
        "plt.ylim([0, 10])\n",
        "plt.title('Dataset - Análise com o K-Means')\n",
        "plt.scatter(x1, x2) #Avalia o conjunto de informações para ver se os dados tem similaridade\n",
        "plt.show()"
      ],
      "metadata": {
        "colab": {
          "base_uri": "https://localhost:8080/",
          "height": 452
        },
        "id": "s5fF-DpJIfDc",
        "outputId": "72f6b2b4-1f38-4bee-a55b-0ce202216a7d"
      },
      "execution_count": 8,
      "outputs": [
        {
          "output_type": "display_data",
          "data": {
            "text/plain": [
              "<Figure size 640x480 with 1 Axes>"
            ],
            "image/png": "[encoded data removed]"
          },
          "metadata": {}
        }
      ]
    },
    {
      "cell_type": "code",
      "source": [
        "# Criando um novo plot e dados\n",
        "plt.plot()\n",
        "X = np.array(list(zip(x1, x2))).reshape(len(x1), 2)\n",
        "colors = ['b', 'g', 'r']\n",
        "markers = ['o', 'v', 's']\n",
        "\n",
        "# KMeans algoritmo\n",
        "K = 3\n",
        "kmeans_model = KMeans(n_clusters=K).fit(X)\n",
        "\n",
        "plt.plot()\n",
        "for i, l in enumerate(kmeans_model.labels_):\n",
        "    plt.plot(x1[i], x2[i], color=colors[l], marker=markers[l],ls='None')\n",
        "    plt.xlim([0, 10])\n",
        "    plt.ylim([0, 10])\n",
        "\n",
        "plt.show()"
      ],
      "metadata": {
        "colab": {
          "base_uri": "https://localhost:8080/",
          "height": 490
        },
        "id": "Vr98uXIeI4Ov",
        "outputId": "760ce779-88af-4a12-e86a-b067211796d2"
      },
      "execution_count": 9,
      "outputs": [
        {
          "output_type": "stream",
          "name": "stderr",
          "text": [
            "/usr/local/lib/python3.10/dist-packages/sklearn/cluster/_kmeans.py:870: FutureWarning: The default value of `n_init` will change from 10 to 'auto' in 1.4. Set the value of `n_init` explicitly to suppress the warning\n",
            "  warnings.warn(\n"
          ]
        },
        {
          "output_type": "display_data",
          "data": {
            "text/plain": [
              "<Figure size 640x480 with 1 Axes>"
            ],
            "image/png": "[encoded data removed]"
          },
          "metadata": {}
        }
      ]
    },
    {
      "cell_type": "code",
      "source": [
        "# Importando BD Games\n",
        "\n",
        "import pandas as pd # Importa o pandas para manipular os dados\n",
        "games = pd.read_csv(\"iris(1).csv\") # Carrega os dados e coloca no Data Frame Games\n",
        "games.head(5) # Mostra as 5 primeiras linhas do Data Frame"
      ],
      "metadata": {
        "colab": {
          "base_uri": "https://localhost:8080/",
          "height": 206
        },
        "id": "M8hYpDDKI6hl",
        "outputId": "f5b04bd3-4ba3-4ff4-9d46-fb949e473ec4"
      },
      "execution_count": 10,
      "outputs": [
        {
          "output_type": "execute_result",
          "data": {
            "text/plain": [
              "   sepal_length  sepal_width  petal_length  petal_width species\n",
              "0           5.1          3.5           1.4          0.2  setosa\n",
              "1           4.9          3.0           1.4          0.2  setosa\n",
              "2           4.7          3.2           1.3          0.2  setosa\n",
              "3           4.6          3.1           1.5          0.2  setosa\n",
              "4           5.0          3.6           1.4          0.2  setosa"
            ],
            "text/html": [
              "\n",
              "  <div id=\"df-df0a4295-9c22-4810-905f-83e966b98dc4\">\n",
              "    <div class=\"colab-df-container\">\n",
              "      <div>\n",
              "<style scoped>\n",
              "    .dataframe tbody tr th:only-of-type {\n",
              "        vertical-align: middle;\n",
              "    }\n",
              "\n",
              "    .dataframe tbody tr th {\n",
              "        vertical-align: top;\n",
              "    }\n",
              "\n",
              "    .dataframe thead th {\n",
              "        text-align: right;\n",
              "    }\n",
              "</style>\n",
              "<table border=\"1\" class=\"dataframe\">\n",
              "  <thead>\n",
              "    <tr style=\"text-align: right;\">\n",
              "      <th></th>\n",
              "      <th>sepal_length</th>\n",
              "      <th>sepal_width</th>\n",
              "      <th>petal_length</th>\n",
              "      <th>petal_width</th>\n",
              "      <th>species</th>\n",
              "    </tr>\n",
              "  </thead>\n",
              "  <tbody>\n",
              "    <tr>\n",
              "      <th>0</th>\n",
              "      <td>5.1</td>\n",
              "      <td>3.5</td>\n",
              "      <td>1.4</td>\n",
              "      <td>0.2</td>\n",
              "      <td>setosa</td>\n",
              "    </tr>\n",
              "    <tr>\n",
              "      <th>1</th>\n",
              "      <td>4.9</td>\n",
              "      <td>3.0</td>\n",
              "      <td>1.4</td>\n",
              "      <td>0.2</td>\n",
              "      <td>setosa</td>\n",
              "    </tr>\n",
              "    <tr>\n",
              "      <th>2</th>\n",
              "      <td>4.7</td>\n",
              "      <td>3.2</td>\n",
              "      <td>1.3</td>\n",
              "      <td>0.2</td>\n",
              "      <td>setosa</td>\n",
              "    </tr>\n",
              "    <tr>\n",
              "      <th>3</th>\n",
              "      <td>4.6</td>\n",
              "      <td>3.1</td>\n",
              "      <td>1.5</td>\n",
              "      <td>0.2</td>\n",
              "      <td>setosa</td>\n",
              "    </tr>\n",
              "    <tr>\n",
              "      <th>4</th>\n",
              "      <td>5.0</td>\n",
              "      <td>3.6</td>\n",
              "      <td>1.4</td>\n",
              "      <td>0.2</td>\n",
              "      <td>setosa</td>\n",
              "    </tr>\n",
              "  </tbody>\n",
              "</table>\n",
              "</div>\n",
              "      <button class=\"colab-df-convert\" onclick=\"convertToInteractive('df-df0a4295-9c22-4810-905f-83e966b98dc4')\"\n",
              "              title=\"Convert this dataframe to an interactive table.\"\n",
              "              style=\"display:none;\">\n",
              "        \n",
              "  <svg xmlns=\"http://www.w3.org/2000/svg\" height=\"24px\"viewBox=\"0 0 24 24\"\n",
              "       width=\"24px\">\n",
              "    <path d=\"M0 0h24v24H0V0z\" fill=\"none\"/>\n",
              "    <path d=\"M18.56 5.44l.94 2.06.94-2.06 2.06-.94-2.06-.94-.94-2.06-.94 2.06-2.06.94zm-11 1L8.5 8.5l.94-2.06 2.06-.94-2.06-.94L8.5 2.5l-.94 2.06-2.06.94zm10 10l.94 2.06.94-2.06 2.06-.94-2.06-.94-.94-2.06-.94 2.06-2.06.94z\"/><path d=\"M17.41 7.96l-1.37-1.37c-.4-.4-.92-.59-1.43-.59-.52 0-1.04.2-1.43.59L10.3 9.45l-7.72 7.72c-.78.78-.78 2.05 0 2.83L4 21.41c.39.39.9.59 1.41.59.51 0 1.02-.2 1.41-.59l7.78-7.78 2.81-2.81c.8-.78.8-2.07 0-2.86zM5.41 20L4 18.59l7.72-7.72 1.47 1.35L5.41 20z\"/>\n",
              "  </svg>\n",
              "      </button>\n",
              "      \n",
              "  <style>\n",
              "    .colab-df-container {\n",
              "      display:flex;\n",
              "      flex-wrap:wrap;\n",
              "      gap: 12px;\n",
              "    }\n",
              "\n",
              "    .colab-df-convert {\n",
              "      background-color: #E8F0FE;\n",
              "      border: none;\n",
              "      border-radius: 50%;\n",
              "      cursor: pointer;\n",
              "      display: none;\n",
              "      fill: #1967D2;\n",
              "      height: 32px;\n",
              "      padding: 0 0 0 0;\n",
              "      width: 32px;\n",
              "    }\n",
              "\n",
              "    .colab-df-convert:hover {\n",
              "      background-color: #E2EBFA;\n",
              "      box-shadow: 0px 1px 2px rgba(60, 64, 67, 0.3), 0px 1px 3px 1px rgba(60, 64, 67, 0.15);\n",
              "      fill: #174EA6;\n",
              "    }\n",
              "\n",
              "    [theme=dark] .colab-df-convert {\n",
              "      background-color: #3B4455;\n",
              "      fill: #D2E3FC;\n",
              "    }\n",
              "\n",
              "    [theme=dark] .colab-df-convert:hover {\n",
              "      background-color: #434B5C;\n",
              "      box-shadow: 0px 1px 3px 1px rgba(0, 0, 0, 0.15);\n",
              "      filter: drop-shadow(0px 1px 2px rgba(0, 0, 0, 0.3));\n",
              "      fill: #FFFFFF;\n",
              "    }\n",
              "  </style>\n",
              "\n",
              "      <script>\n",
              "        const buttonEl =\n",
              "          document.querySelector('#df-df0a4295-9c22-4810-905f-83e966b98dc4 button.colab-df-convert');\n",
              "        buttonEl.style.display =\n",
              "          google.colab.kernel.accessAllowed ? 'block' : 'none';\n",
              "\n",
              "        async function convertToInteractive(key) {\n",
              "          const element = document.querySelector('#df-df0a4295-9c22-4810-905f-83e966b98dc4');\n",
              "          const dataTable =\n",
              "            await google.colab.kernel.invokeFunction('convertToInteractive',\n",
              "                                                     [key], {});\n",
              "          if (!dataTable) return;\n",
              "\n",
              "          const docLinkHtml = 'Like what you see? Visit the ' +\n",
              "            '<a target=\"_blank\" href=https://colab.research.google.com/notebooks/data_table.ipynb>data table notebook</a>'\n",
              "            + ' to learn more about interactive tables.';\n",
              "          element.innerHTML = '';\n",
              "          dataTable['output_type'] = 'display_data';\n",
              "          await google.colab.output.renderOutput(dataTable, element);\n",
              "          const docLink = document.createElement('div');\n",
              "          docLink.innerHTML = docLinkHtml;\n",
              "          element.appendChild(docLink);\n",
              "        }\n",
              "      </script>\n",
              "    </div>\n",
              "  </div>\n",
              "  "
            ]
          },
          "metadata": {},
          "execution_count": 10
        }
      ]
    },
    {
      "cell_type": "code",
      "source": [
        "# Remove a coluna do início do data frame\n",
        "\n",
        "X = games.iloc[:, 0:4].values\n",
        "X"
      ],
      "metadata": {
        "colab": {
          "base_uri": "https://localhost:8080/"
        },
        "id": "h2jXS5UsI9Hc",
        "outputId": "9f42a92b-d3e9-4268-df3b-2d8a3d0668d5"
      },
      "execution_count": 11,
      "outputs": [
        {
          "output_type": "execute_result",
          "data": {
            "text/plain": [
              "array([[5.1, 3.5, 1.4, 0.2],\n",
              "       [4.9, 3. , 1.4, 0.2],\n",
              "       [4.7, 3.2, 1.3, 0.2],\n",
              "       [4.6, 3.1, 1.5, 0.2],\n",
              "       [5. , 3.6, 1.4, 0.2],\n",
              "       [5.4, 3.9, 1.7, 0.4],\n",
              "       [4.6, 3.4, 1.4, 0.3],\n",
              "       [5. , 3.4, 1.5, 0.2],\n",
              "       [4.4, 2.9, 1.4, 0.2],\n",
              "       [4.9, 3.1, 1.5, 0.1],\n",
              "       [5.4, 3.7, 1.5, 0.2],\n",
              "       [4.8, 3.4, 1.6, 0.2],\n",
              "       [4.8, 3. , 1.4, 0.1],\n",
              "       [4.3, 3. , 1.1, 0.1],\n",
              "       [5.8, 4. , 1.2, 0.2],\n",
              "       [5.7, 4.4, 1.5, 0.4],\n",
              "       [5.4, 3.9, 1.3, 0.4],\n",
              "       [5.1, 3.5, 1.4, 0.3],\n",
              "       [5.7, 3.8, 1.7, 0.3],\n",
              "       [5.1, 3.8, 1.5, 0.3],\n",
              "       [5.4, 3.4, 1.7, 0.2],\n",
              "       [5.1, 3.7, 1.5, 0.4],\n",
              "       [4.6, 3.6, 1. , 0.2],\n",
              "       [5.1, 3.3, 1.7, 0.5],\n",
              "       [4.8, 3.4, 1.9, 0.2],\n",
              "       [5. , 3. , 1.6, 0.2],\n",
              "       [5. , 3.4, 1.6, 0.4],\n",
              "       [5.2, 3.5, 1.5, 0.2],\n",
              "       [5.2, 3.4, 1.4, 0.2],\n",
              "       [4.7, 3.2, 1.6, 0.2],\n",
              "       [4.8, 3.1, 1.6, 0.2],\n",
              "       [5.4, 3.4, 1.5, 0.4],\n",
              "       [5.2, 4.1, 1.5, 0.1],\n",
              "       [5.5, 4.2, 1.4, 0.2],\n",
              "       [4.9, 3.1, 1.5, 0.1],\n",
              "       [5. , 3.2, 1.2, 0.2],\n",
              "       [5.5, 3.5, 1.3, 0.2],\n",
              "       [4.9, 3.1, 1.5, 0.1],\n",
              "       [4.4, 3. , 1.3, 0.2],\n",
              "       [5.1, 3.4, 1.5, 0.2],\n",
              "       [5. , 3.5, 1.3, 0.3],\n",
              "       [4.5, 2.3, 1.3, 0.3],\n",
              "       [4.4, 3.2, 1.3, 0.2],\n",
              "       [5. , 3.5, 1.6, 0.6],\n",
              "       [5.1, 3.8, 1.9, 0.4],\n",
              "       [4.8, 3. , 1.4, 0.3],\n",
              "       [5.1, 3.8, 1.6, 0.2],\n",
              "       [4.6, 3.2, 1.4, 0.2],\n",
              "       [5.3, 3.7, 1.5, 0.2],\n",
              "       [5. , 3.3, 1.4, 0.2],\n",
              "       [7. , 3.2, 4.7, 1.4],\n",
              "       [6.4, 3.2, 4.5, 1.5],\n",
              "       [6.9, 3.1, 4.9, 1.5],\n",
              "       [5.5, 2.3, 4. , 1.3],\n",
              "       [6.5, 2.8, 4.6, 1.5],\n",
              "       [5.7, 2.8, 4.5, 1.3],\n",
              "       [6.3, 3.3, 4.7, 1.6],\n",
              "       [4.9, 2.4, 3.3, 1. ],\n",
              "       [6.6, 2.9, 4.6, 1.3],\n",
              "       [5.2, 2.7, 3.9, 1.4],\n",
              "       [5. , 2. , 3.5, 1. ],\n",
              "       [5.9, 3. , 4.2, 1.5],\n",
              "       [6. , 2.2, 4. , 1. ],\n",
              "       [6.1, 2.9, 4.7, 1.4],\n",
              "       [5.6, 2.9, 3.6, 1.3],\n",
              "       [6.7, 3.1, 4.4, 1.4],\n",
              "       [5.6, 3. , 4.5, 1.5],\n",
              "       [5.8, 2.7, 4.1, 1. ],\n",
              "       [6.2, 2.2, 4.5, 1.5],\n",
              "       [5.6, 2.5, 3.9, 1.1],\n",
              "       [5.9, 3.2, 4.8, 1.8],\n",
              "       [6.1, 2.8, 4. , 1.3],\n",
              "       [6.3, 2.5, 4.9, 1.5],\n",
              "       [6.1, 2.8, 4.7, 1.2],\n",
              "       [6.4, 2.9, 4.3, 1.3],\n",
              "       [6.6, 3. , 4.4, 1.4],\n",
              "       [6.8, 2.8, 4.8, 1.4],\n",
              "       [6.7, 3. , 5. , 1.7],\n",
              "       [6. , 2.9, 4.5, 1.5],\n",
              "       [5.7, 2.6, 3.5, 1. ],\n",
              "       [5.5, 2.4, 3.8, 1.1],\n",
              "       [5.5, 2.4, 3.7, 1. ],\n",
              "       [5.8, 2.7, 3.9, 1.2],\n",
              "       [6. , 2.7, 5.1, 1.6],\n",
              "       [5.4, 3. , 4.5, 1.5],\n",
              "       [6. , 3.4, 4.5, 1.6],\n",
              "       [6.7, 3.1, 4.7, 1.5],\n",
              "       [6.3, 2.3, 4.4, 1.3],\n",
              "       [5.6, 3. , 4.1, 1.3],\n",
              "       [5.5, 2.5, 4. , 1.3],\n",
              "       [5.5, 2.6, 4.4, 1.2],\n",
              "       [6.1, 3. , 4.6, 1.4],\n",
              "       [5.8, 2.6, 4. , 1.2],\n",
              "       [5. , 2.3, 3.3, 1. ],\n",
              "       [5.6, 2.7, 4.2, 1.3],\n",
              "       [5.7, 3. , 4.2, 1.2],\n",
              "       [5.7, 2.9, 4.2, 1.3],\n",
              "       [6.2, 2.9, 4.3, 1.3],\n",
              "       [5.1, 2.5, 3. , 1.1],\n",
              "       [5.7, 2.8, 4.1, 1.3],\n",
              "       [6.3, 3.3, 6. , 2.5],\n",
              "       [5.8, 2.7, 5.1, 1.9],\n",
              "       [7.1, 3. , 5.9, 2.1],\n",
              "       [6.3, 2.9, 5.6, 1.8],\n",
              "       [6.5, 3. , 5.8, 2.2],\n",
              "       [7.6, 3. , 6.6, 2.1],\n",
              "       [4.9, 2.5, 4.5, 1.7],\n",
              "       [7.3, 2.9, 6.3, 1.8],\n",
              "       [6.7, 2.5, 5.8, 1.8],\n",
              "       [7.2, 3.6, 6.1, 2.5],\n",
              "       [6.5, 3.2, 5.1, 2. ],\n",
              "       [6.4, 2.7, 5.3, 1.9],\n",
              "       [6.8, 3. , 5.5, 2.1],\n",
              "       [5.7, 2.5, 5. , 2. ],\n",
              "       [5.8, 2.8, 5.1, 2.4],\n",
              "       [6.4, 3.2, 5.3, 2.3],\n",
              "       [6.5, 3. , 5.5, 1.8],\n",
              "       [7.7, 3.8, 6.7, 2.2],\n",
              "       [7.7, 2.6, 6.9, 2.3],\n",
              "       [6. , 2.2, 5. , 1.5],\n",
              "       [6.9, 3.2, 5.7, 2.3],\n",
              "       [5.6, 2.8, 4.9, 2. ],\n",
              "       [7.7, 2.8, 6.7, 2. ],\n",
              "       [6.3, 2.7, 4.9, 1.8],\n",
              "       [6.7, 3.3, 5.7, 2.1],\n",
              "       [7.2, 3.2, 6. , 1.8],\n",
              "       [6.2, 2.8, 4.8, 1.8],\n",
              "       [6.1, 3. , 4.9, 1.8],\n",
              "       [6.4, 2.8, 5.6, 2.1],\n",
              "       [7.2, 3. , 5.8, 1.6],\n",
              "       [7.4, 2.8, 6.1, 1.9],\n",
              "       [7.9, 3.8, 6.4, 2. ],\n",
              "       [6.4, 2.8, 5.6, 2.2],\n",
              "       [6.3, 2.8, 5.1, 1.5],\n",
              "       [6.1, 2.6, 5.6, 1.4],\n",
              "       [7.7, 3. , 6.1, 2.3],\n",
              "       [6.3, 3.4, 5.6, 2.4],\n",
              "       [6.4, 3.1, 5.5, 1.8],\n",
              "       [6. , 3. , 4.8, 1.8],\n",
              "       [6.9, 3.1, 5.4, 2.1],\n",
              "       [6.7, 3.1, 5.6, 2.4],\n",
              "       [6.9, 3.1, 5.1, 2.3],\n",
              "       [5.8, 2.7, 5.1, 1.9],\n",
              "       [6.8, 3.2, 5.9, 2.3],\n",
              "       [6.7, 3.3, 5.7, 2.5],\n",
              "       [6.7, 3. , 5.2, 2.3],\n",
              "       [6.3, 2.5, 5. , 1.9],\n",
              "       [6.5, 3. , 5.2, 2. ],\n",
              "       [6.2, 3.4, 5.4, 2.3],\n",
              "       [5.9, 3. , 5.1, 1.8]])"
            ]
          },
          "metadata": {},
          "execution_count": 11
        }
      ]
    },
    {
      "cell_type": "code",
      "source": [
        "# Instanciar o Objeto do KMeans\n",
        "\n",
        "kmeans = KMeans(n_clusters = 3, init = 'random')"
      ],
      "metadata": {
        "id": "m9dCjU-3I_pr"
      },
      "execution_count": 12,
      "outputs": []
    },
    {
      "cell_type": "code",
      "source": [
        "# Treinando o modelo de ML (KMeans)\n",
        "\n",
        "kmeans.fit(X)"
      ],
      "metadata": {
        "colab": {
          "base_uri": "https://localhost:8080/",
          "height": 129
        },
        "id": "l5JbgjU6JCOb",
        "outputId": "ae7845ae-0ded-4cfa-c35d-31877a5074b1"
      },
      "execution_count": 13,
      "outputs": [
        {
          "output_type": "stream",
          "name": "stderr",
          "text": [
            "/usr/local/lib/python3.10/dist-packages/sklearn/cluster/_kmeans.py:870: FutureWarning: The default value of `n_init` will change from 10 to 'auto' in 1.4. Set the value of `n_init` explicitly to suppress the warning\n",
            "  warnings.warn(\n"
          ]
        },
        {
          "output_type": "execute_result",
          "data": {
            "text/plain": [
              "KMeans(init='random', n_clusters=3)"
            ],
            "text/html": [
              "<style>#sk-container-id-1 {color: black;background-color: white;}#sk-container-id-1 pre{padding: 0;}#sk-container-id-1 div.sk-toggleable {background-color: white;}#sk-container-id-1 label.sk-toggleable__label {cursor: pointer;display: block;width: 100%;margin-bottom: 0;padding: 0.3em;box-sizing: border-box;text-align: center;}#sk-container-id-1 label.sk-toggleable__label-arrow:before {content: \"▸\";float: left;margin-right: 0.25em;color: #696969;}#sk-container-id-1 label.sk-toggleable__label-arrow:hover:before {color: black;}#sk-container-id-1 div.sk-estimator:hover label.sk-toggleable__label-arrow:before {color: black;}#sk-container-id-1 div.sk-toggleable__content {max-height: 0;max-width: 0;overflow: hidden;text-align: left;background-color: #f0f8ff;}#sk-container-id-1 div.sk-toggleable__content pre {margin: 0.2em;color: black;border-radius: 0.25em;background-color: #f0f8ff;}#sk-container-id-1 input.sk-toggleable__control:checked~div.sk-toggleable__content {max-height: 200px;max-width: 100%;overflow: auto;}#sk-container-id-1 input.sk-toggleable__control:checked~label.sk-toggleable__label-arrow:before {content: \"▾\";}#sk-container-id-1 div.sk-estimator input.sk-toggleable__control:checked~label.sk-toggleable__label {background-color: #d4ebff;}#sk-container-id-1 div.sk-label input.sk-toggleable__control:checked~label.sk-toggleable__label {background-color: #d4ebff;}#sk-container-id-1 input.sk-hidden--visually {border: 0;clip: rect(1px 1px 1px 1px);clip: rect(1px, 1px, 1px, 1px);height: 1px;margin: -1px;overflow: hidden;padding: 0;position: absolute;width: 1px;}#sk-container-id-1 div.sk-estimator {font-family: monospace;background-color: #f0f8ff;border: 1px dotted black;border-radius: 0.25em;box-sizing: border-box;margin-bottom: 0.5em;}#sk-container-id-1 div.sk-estimator:hover {background-color: #d4ebff;}#sk-container-id-1 div.sk-parallel-item::after {content: \"\";width: 100%;border-bottom: 1px solid gray;flex-grow: 1;}#sk-container-id-1 div.sk-label:hover label.sk-toggleable__label {background-color: #d4ebff;}#sk-container-id-1 div.sk-serial::before {content: \"\";position: absolute;border-left: 1px solid gray;box-sizing: border-box;top: 0;bottom: 0;left: 50%;z-index: 0;}#sk-container-id-1 div.sk-serial {display: flex;flex-direction: column;align-items: center;background-color: white;padding-right: 0.2em;padding-left: 0.2em;position: relative;}#sk-container-id-1 div.sk-item {position: relative;z-index: 1;}#sk-container-id-1 div.sk-parallel {display: flex;align-items: stretch;justify-content: center;background-color: white;position: relative;}#sk-container-id-1 div.sk-item::before, #sk-container-id-1 div.sk-parallel-item::before {content: \"\";position: absolute;border-left: 1px solid gray;box-sizing: border-box;top: 0;bottom: 0;left: 50%;z-index: -1;}#sk-container-id-1 div.sk-parallel-item {display: flex;flex-direction: column;z-index: 1;position: relative;background-color: white;}#sk-container-id-1 div.sk-parallel-item:first-child::after {align-self: flex-end;width: 50%;}#sk-container-id-1 div.sk-parallel-item:last-child::after {align-self: flex-start;width: 50%;}#sk-container-id-1 div.sk-parallel-item:only-child::after {width: 0;}#sk-container-id-1 div.sk-dashed-wrapped {border: 1px dashed gray;margin: 0 0.4em 0.5em 0.4em;box-sizing: border-box;padding-bottom: 0.4em;background-color: white;}#sk-container-id-1 div.sk-label label {font-family: monospace;font-weight: bold;display: inline-block;line-height: 1.2em;}#sk-container-id-1 div.sk-label-container {text-align: center;}#sk-container-id-1 div.sk-container {/* jupyter's `normalize.less` sets `[hidden] { display: none; }` but bootstrap.min.css set `[hidden] { display: none !important; }` so we also need the `!important` here to be able to override the default hidden behavior on the sphinx rendered scikit-learn.org. See: https://github.com/scikit-learn/scikit-learn/issues/21755 */display: inline-block !important;position: relative;}#sk-container-id-1 div.sk-text-repr-fallback {display: none;}</style><div id=\"sk-container-id-1\" class=\"sk-top-container\"><div class=\"sk-text-repr-fallback\"><pre>KMeans(init=&#x27;random&#x27;, n_clusters=3)</pre><b>In a Jupyter environment, please rerun this cell to show the HTML representation or trust the notebook. <br />On GitHub, the HTML representation is unable to render, please try loading this page with nbviewer.org.</b></div><div class=\"sk-container\" hidden><div class=\"sk-item\"><div class=\"sk-estimator sk-toggleable\"><input class=\"sk-toggleable__control sk-hidden--visually\" id=\"sk-estimator-id-1\" type=\"checkbox\" checked><label for=\"sk-estimator-id-1\" class=\"sk-toggleable__label sk-toggleable__label-arrow\">KMeans</label><div class=\"sk-toggleable__content\"><pre>KMeans(init=&#x27;random&#x27;, n_clusters=3)</pre></div></div></div></div></div>"
            ]
          },
          "metadata": {},
          "execution_count": 13
        }
      ]
    },
    {
      "cell_type": "code",
      "source": [
        "# Mostra a posição de Centroides que foram identificados\n",
        "\n",
        "kmeans.cluster_centers_"
      ],
      "metadata": {
        "colab": {
          "base_uri": "https://localhost:8080/"
        },
        "id": "xZjsbSvaJFQd",
        "outputId": "43521d96-9d27-4963-b867-e39a938f934c"
      },
      "execution_count": 14,
      "outputs": [
        {
          "output_type": "execute_result",
          "data": {
            "text/plain": [
              "array([[5.9016129 , 2.7483871 , 4.39354839, 1.43387097],\n",
              "       [5.006     , 3.418     , 1.464     , 0.244     ],\n",
              "       [6.85      , 3.07368421, 5.74210526, 2.07105263]])"
            ]
          },
          "metadata": {},
          "execution_count": 14
        }
      ]
    },
    {
      "cell_type": "code",
      "source": [
        "# Exibe a distância entre os pontos centrais\n",
        "\n",
        "distance = kmeans.fit_transform(X)\n",
        "distance"
      ],
      "metadata": {
        "colab": {
          "base_uri": "https://localhost:8080/"
        },
        "id": "5ORdXfk6JJQW",
        "outputId": "10502569-2703-46f1-b1d9-389e71d23573"
      },
      "execution_count": 15,
      "outputs": [
        {
          "output_type": "stream",
          "name": "stderr",
          "text": [
            "/usr/local/lib/python3.10/dist-packages/sklearn/cluster/_kmeans.py:870: FutureWarning: The default value of `n_init` will change from 10 to 'auto' in 1.4. Set the value of `n_init` explicitly to suppress the warning\n",
            "  warnings.warn(\n"
          ]
        },
        {
          "output_type": "execute_result",
          "data": {
            "text/plain": [
              "array([[3.41925061, 0.14694217, 5.0595416 ],\n",
              "       [3.39857426, 0.43816892, 5.11494335],\n",
              "       [3.56935666, 0.41230086, 5.27935534],\n",
              "       [3.42240962, 0.51883716, 5.15358977],\n",
              "       [3.46726403, 0.19796969, 5.10433388],\n",
              "       [3.14673162, 0.68380699, 4.68148797],\n",
              "       [3.51650264, 0.41520116, 5.21147652],\n",
              "       [3.33654987, 0.0599333 , 5.00252706],\n",
              "       [3.57233779, 0.80099438, 5.32798107],\n",
              "       [3.3583767 , 0.36659514, 5.06790865],\n",
              "       [3.32449131, 0.48784424, 4.89806763],\n",
              "       [3.31126872, 0.25138019, 4.9966845 ],\n",
              "       [3.46661272, 0.49192682, 5.19103612],\n",
              "       [3.90578362, 0.90906105, 5.65173594],\n",
              "       [3.646649  , 1.02019214, 5.10804455],\n",
              "       [3.49427881, 1.21309192, 4.88564095],\n",
              "       [3.495248  , 0.66241377, 5.03090587],\n",
              "       [3.38444981, 0.1509702 , 5.02342022],\n",
              "       [3.11245944, 0.82848778, 4.61792995],\n",
              "       [3.37738931, 0.39898872, 4.97213426],\n",
              "       [3.07471224, 0.46172719, 4.6955761 ],\n",
              "       [3.31506588, 0.33762701, 4.9236821 ],\n",
              "       [3.93167253, 0.64435394, 5.59713396],\n",
              "       [3.01233762, 0.37946278, 4.68193765],\n",
              "       [3.06241269, 0.4845534 , 4.75095704],\n",
              "       [3.19414543, 0.44180539, 4.90772894],\n",
              "       [3.17967089, 0.20782685, 4.84545508],\n",
              "       [3.30941724, 0.21815591, 4.93969029],\n",
              "       [3.37648183, 0.2097427 , 5.01833618],\n",
              "       [3.31272968, 0.40198507, 5.02954567],\n",
              "       [3.26550651, 0.40495926, 4.98608729],\n",
              "       [3.18083736, 0.42566654, 4.79550372],\n",
              "       [3.53142353, 0.72442529, 5.06520776],\n",
              "       [3.57102821, 0.9282198 , 5.04438334],\n",
              "       [3.3583767 , 0.36659514, 5.06790865],\n",
              "       [3.56904033, 0.34524194, 5.25071556],\n",
              "       [3.43783276, 0.5287646 , 5.02368214],\n",
              "       [3.3583767 , 0.36659514, 5.06790865],\n",
              "       [3.66205264, 0.75550778, 5.40750095],\n",
              "       [3.31092773, 0.11131936, 4.9664149 ],\n",
              "       [3.49764675, 0.19181241, 5.14520862],\n",
              "       [3.60850034, 1.23935144, 5.38423754],\n",
              "       [3.68120561, 0.66602703, 5.40847417],\n",
              "       [3.14278239, 0.38986151, 4.78803478],\n",
              "       [3.00585191, 0.60761172, 4.59828494],\n",
              "       [3.39468045, 0.47370033, 5.11844067],\n",
              "       [3.32788568, 0.41855943, 4.92421655],\n",
              "       [3.51879523, 0.4673243 , 5.23766854],\n",
              "       [3.34104251, 0.41132955, 4.92859681],\n",
              "       [3.40601705, 0.14139307, 5.08216833],\n",
              "       [1.22697525, 3.97889331, 1.25489071],\n",
              "       [0.684141  , 3.57569462, 1.44477759],\n",
              "       [1.17527644, 4.13182671, 1.01903626],\n",
              "       [0.73153652, 3.00672446, 2.45978458],\n",
              "       [0.63853451, 3.7451291 , 1.3520017 ],\n",
              "       [0.26937898, 3.34604124, 1.88009327],\n",
              "       [0.76452634, 3.74149596, 1.28902785],\n",
              "       [1.58388575, 2.233829  , 3.37155487],\n",
              "       [0.75582717, 3.70928457, 1.41123804],\n",
              "       [0.85984838, 2.79706847, 2.58955659],\n",
              "       [1.53611907, 2.5937602 , 3.27864111],\n",
              "       [0.32426175, 3.16815277, 1.90055758],\n",
              "       [0.80841374, 3.07805003, 2.38073698],\n",
              "       [0.39674141, 3.64323922, 1.45909603],\n",
              "       [0.87269542, 2.50973943, 2.60303733],\n",
              "       [0.87306498, 3.59544045, 1.50822767],\n",
              "       [0.41229163, 3.36487622, 1.85387593],\n",
              "       [0.53579956, 2.9438057 , 2.25517257],\n",
              "       [0.6367639 , 3.70189033, 1.74778451],\n",
              "       [0.71254917, 2.80399572, 2.49557781],\n",
              "       [0.7093731 , 3.79431048, 1.37094403],\n",
              "       [0.46349013, 3.02079327, 2.06563694],\n",
              "       [0.69373966, 3.98757972, 1.29106776],\n",
              "       [0.43661144, 3.60060995, 1.57547425],\n",
              "       [0.54593856, 3.37188256, 1.70495043],\n",
              "       [0.74313017, 3.55977415, 1.52298639],\n",
              "       [0.98798453, 4.00819061, 1.18965415],\n",
              "       [1.06739835, 4.20328348, 0.84636259],\n",
              "       [0.21993519, 3.47148268, 1.61913335],\n",
              "       [1.0243726 , 2.42231129, 2.77868071],\n",
              "       [0.86396528, 2.73312861, 2.6440625 ],\n",
              "       [0.97566381, 2.61755458, 2.75566654],\n",
              "       [0.55763082, 2.82736485, 2.32254696],\n",
              "       [0.73395781, 4.06974102, 1.22324554],\n",
              "       [0.57500396, 3.33538484, 1.9942056 ],\n",
              "       [0.68790275, 3.47050313, 1.61049622],\n",
              "       [0.92700552, 3.87556344, 1.19803047],\n",
              "       [0.61459444, 3.55803204, 1.81572464],\n",
              "       [0.50830256, 2.93107352, 2.20430516],\n",
              "       [0.6291191 , 2.9382294 , 2.40438484],\n",
              "       [0.48790256, 3.23221163, 2.14635877],\n",
              "       [0.38266958, 3.54152397, 1.52402278],\n",
              "       [0.49185351, 2.94020271, 2.26286106],\n",
              "       [1.5485635 , 2.27868208, 3.33648305],\n",
              "       [0.3856087 , 3.07720523, 2.16211718],\n",
              "       [0.44284695, 3.00931753, 2.11299567],\n",
              "       [0.3449879 , 3.05790647, 2.07973003],\n",
              "       [0.37241653, 3.29423618, 1.76829182],\n",
              "       [1.66064034, 1.98584793, 3.44291999],\n",
              "       [0.38393196, 2.98784069, 2.16527941],\n",
              "       [2.0445799 , 5.23002792, 0.77731871],\n",
              "       [0.85382472, 4.13627755, 1.29757391],\n",
              "       [2.05245342, 5.2614059 , 0.30610139],\n",
              "       [1.33089245, 4.63361544, 0.65293923],\n",
              "       [1.72813078, 5.00335807, 0.38458885],\n",
              "       [2.87401886, 6.06026336, 1.14225684],\n",
              "       [1.07101875, 3.49158875, 2.4108337 ],\n",
              "       [2.39730707, 5.59810611, 0.78573677],\n",
              "       [1.67668563, 4.99343489, 0.65454939],\n",
              "       [2.54158648, 5.60613878, 0.8435596 ],\n",
              "       [1.17541367, 4.31086905, 0.74552218],\n",
              "       [1.13563278, 4.46273369, 0.75289837],\n",
              "       [1.59322675, 4.80907392, 0.25958095],\n",
              "       [0.88917352, 4.11232197, 1.48572618],\n",
              "       [1.20227628, 4.34524936, 1.30303821],\n",
              "       [1.42273608, 4.57523682, 0.68288333],\n",
              "       [1.33403966, 4.5953446 , 0.50991553],\n",
              "       [3.20105585, 6.21652572, 1.47791217],\n",
              "       [3.20759942, 6.4578628 , 1.52971038],\n",
              "       [0.82617494, 4.0684631 , 1.53708992],\n",
              "       [1.91251832, 5.07992047, 0.26952816],\n",
              "       [0.81891975, 3.95277017, 1.5334904 ],\n",
              "       [2.9794431 , 6.17566126, 1.31149299],\n",
              "       [0.74269596, 4.05181342, 1.10668455],\n",
              "       [1.75847731, 4.92666134, 0.27627819],\n",
              "       [2.14580999, 5.27802918, 0.52766931],\n",
              "       [0.62526165, 3.91887637, 1.20765678],\n",
              "       [0.70228926, 3.94953061, 1.16212743],\n",
              "       [1.4663925 , 4.78292714, 0.54629196],\n",
              "       [1.93773659, 5.0624097 , 0.59428255],\n",
              "       [2.31885342, 5.50890116, 0.7312665 ],\n",
              "       [3.07340053, 5.99739877, 1.43802246],\n",
              "       [1.51444141, 4.82261257, 0.5605572 ],\n",
              "       [0.81536685, 4.10541009, 1.05631592],\n",
              "       [1.23209127, 4.50652771, 1.12133058],\n",
              "       [2.6381171 , 5.75777665, 0.95311851],\n",
              "       [1.72401927, 4.84041238, 0.73306362],\n",
              "       [1.31541133, 4.55574275, 0.57903109],\n",
              "       [0.61011676, 3.83572575, 1.29960041],\n",
              "       [1.60532899, 4.75659458, 0.34794609],\n",
              "       [1.77481954, 4.97248348, 0.3893492 ],\n",
              "       [1.53937059, 4.59738969, 0.68403844],\n",
              "       [0.85382472, 4.13627755, 1.29757391],\n",
              "       [2.00764279, 5.21259935, 0.30952112],\n",
              "       [1.94554509, 5.09085376, 0.50939919],\n",
              "       [1.44957743, 4.60751473, 0.61173881],\n",
              "       [0.89747884, 4.21459274, 1.10072376],\n",
              "       [1.17993324, 4.40998776, 0.65334214],\n",
              "       [1.50889317, 4.59839015, 0.83572418],\n",
              "       [0.83452741, 4.07622276, 1.1805499 ]])"
            ]
          },
          "metadata": {},
          "execution_count": 15
        }
      ]
    },
    {
      "cell_type": "code",
      "source": [
        "# Exibindo os Rótulos do Cluster completo\n",
        "\n",
        "labels = kmeans.labels_\n",
        "labels"
      ],
      "metadata": {
        "colab": {
          "base_uri": "https://localhost:8080/"
        },
        "id": "qu0hU6CIJL4U",
        "outputId": "e188a3c3-a3c6-4c9f-896b-3cc94d415436"
      },
      "execution_count": 16,
      "outputs": [
        {
          "output_type": "execute_result",
          "data": {
            "text/plain": [
              "array([1, 1, 1, 1, 1, 1, 1, 1, 1, 1, 1, 1, 1, 1, 1, 1, 1, 1, 1, 1, 1, 1,\n",
              "       1, 1, 1, 1, 1, 1, 1, 1, 1, 1, 1, 1, 1, 1, 1, 1, 1, 1, 1, 1, 1, 1,\n",
              "       1, 1, 1, 1, 1, 1, 0, 0, 2, 0, 0, 0, 0, 0, 0, 0, 0, 0, 0, 0, 0, 0,\n",
              "       0, 0, 0, 0, 0, 0, 0, 0, 0, 0, 0, 2, 0, 0, 0, 0, 0, 0, 0, 0, 0, 0,\n",
              "       0, 0, 0, 0, 0, 0, 0, 0, 0, 0, 0, 0, 2, 0, 2, 2, 2, 2, 0, 2, 2, 2,\n",
              "       2, 2, 2, 0, 0, 2, 2, 2, 2, 0, 2, 0, 2, 0, 2, 2, 0, 0, 2, 2, 2, 2,\n",
              "       2, 0, 2, 2, 2, 2, 0, 2, 2, 2, 0, 2, 2, 2, 0, 2, 2, 0], dtype=int32)"
            ]
          },
          "metadata": {},
          "execution_count": 16
        }
      ]
    },
    {
      "cell_type": "code",
      "source": [
        "# Método Elbow -> O método Elbow se trata de uma técnica interessante para encontrar o valor ideal do parâmetro k.\n",
        "# Basicamente o que o método faz é testar a variância dos dados em relação ao número de clusters.\n",
        "\n",
        "from sklearn.cluster import KMeans\n",
        "wcss = []\n",
        "i = 0 \n",
        "for i in range(1, 11):\n",
        "    kmeans = KMeans(n_clusters = i, init = 'random')\n",
        "    kmeans.fit(X)\n",
        "    print (i,kmeans.inertia_)\n",
        "    wcss.append(kmeans.inertia_)  \n",
        "plt.plot(range(1, 11), wcss)\n",
        "plt.title('O Metodo Elbow')\n",
        "plt.xlabel('Numero de Clusters')\n",
        "plt.ylabel('WSS') #within cluster sum of squares\n",
        "plt.show()"
      ],
      "metadata": {
        "colab": {
          "base_uri": "https://localhost:8080/",
          "height": 1000
        },
        "id": "txvLfVqxJOxx",
        "outputId": "23713ba8-f130-4795-a892-1fe4e45e6639"
      },
      "execution_count": 17,
      "outputs": [
        {
          "output_type": "stream",
          "name": "stderr",
          "text": [
            "/usr/local/lib/python3.10/dist-packages/sklearn/cluster/_kmeans.py:870: FutureWarning: The default value of `n_init` will change from 10 to 'auto' in 1.4. Set the value of `n_init` explicitly to suppress the warning\n",
            "  warnings.warn(\n",
            "/usr/local/lib/python3.10/dist-packages/sklearn/cluster/_kmeans.py:870: FutureWarning: The default value of `n_init` will change from 10 to 'auto' in 1.4. Set the value of `n_init` explicitly to suppress the warning\n",
            "  warnings.warn(\n",
            "/usr/local/lib/python3.10/dist-packages/sklearn/cluster/_kmeans.py:870: FutureWarning: The default value of `n_init` will change from 10 to 'auto' in 1.4. Set the value of `n_init` explicitly to suppress the warning\n",
            "  warnings.warn(\n",
            "/usr/local/lib/python3.10/dist-packages/sklearn/cluster/_kmeans.py:870: FutureWarning: The default value of `n_init` will change from 10 to 'auto' in 1.4. Set the value of `n_init` explicitly to suppress the warning\n",
            "  warnings.warn(\n",
            "/usr/local/lib/python3.10/dist-packages/sklearn/cluster/_kmeans.py:870: FutureWarning: The default value of `n_init` will change from 10 to 'auto' in 1.4. Set the value of `n_init` explicitly to suppress the warning\n",
            "  warnings.warn(\n",
            "/usr/local/lib/python3.10/dist-packages/sklearn/cluster/_kmeans.py:870: FutureWarning: The default value of `n_init` will change from 10 to 'auto' in 1.4. Set the value of `n_init` explicitly to suppress the warning\n",
            "  warnings.warn(\n",
            "/usr/local/lib/python3.10/dist-packages/sklearn/cluster/_kmeans.py:870: FutureWarning: The default value of `n_init` will change from 10 to 'auto' in 1.4. Set the value of `n_init` explicitly to suppress the warning\n",
            "  warnings.warn(\n",
            "/usr/local/lib/python3.10/dist-packages/sklearn/cluster/_kmeans.py:870: FutureWarning: The default value of `n_init` will change from 10 to 'auto' in 1.4. Set the value of `n_init` explicitly to suppress the warning\n",
            "  warnings.warn(\n"
          ]
        },
        {
          "output_type": "stream",
          "name": "stdout",
          "text": [
            "1 680.8244000000001\n",
            "2 152.36870647733906\n",
            "3 78.940841426146\n",
            "4 57.317873214285704\n",
            "5 46.53558205128205\n",
            "6 39.251830892636775\n",
            "7 34.62085338680927\n",
            "8 30.367198747307448\n"
          ]
        },
        {
          "output_type": "stream",
          "name": "stderr",
          "text": [
            "/usr/local/lib/python3.10/dist-packages/sklearn/cluster/_kmeans.py:870: FutureWarning: The default value of `n_init` will change from 10 to 'auto' in 1.4. Set the value of `n_init` explicitly to suppress the warning\n",
            "  warnings.warn(\n"
          ]
        },
        {
          "output_type": "stream",
          "name": "stdout",
          "text": [
            "9 28.74298428121798\n",
            "10 26.623719308469305\n"
          ]
        },
        {
          "output_type": "stream",
          "name": "stderr",
          "text": [
            "/usr/local/lib/python3.10/dist-packages/sklearn/cluster/_kmeans.py:870: FutureWarning: The default value of `n_init` will change from 10 to 'auto' in 1.4. Set the value of `n_init` explicitly to suppress the warning\n",
            "  warnings.warn(\n"
          ]
        },
        {
          "output_type": "display_data",
          "data": {
            "text/plain": [
              "<Figure size 640x480 with 1 Axes>"
            ],
            "image/png": "[encoded data removed]"
          },
          "metadata": {}
        }
      ]
    },
    {
      "cell_type": "code",
      "source": [
        "# Agrupando novos dados com KMeans\n",
        "# Com o nosso modelo já criado podemos usar o algoritmo KMeans para agrupar novos dados baseado nos centroides que já estão definidos.\n",
        "\n",
        "# Passando novos valores e observando os cluster que serão atribuídos.\n",
        "#Agrupando novos dados KMeansPython\n",
        "\n",
        "data = [\n",
        "        [ 4.12, 3.4, 1.6, 0.7],\n",
        "        [ 5.2, 5.8, 5.2, 6.7],\n",
        "        [ 3.1, 3.5, 5.3, 3.0]\n",
        "    ]\n",
        "kmeans.predict(data)"
      ],
      "metadata": {
        "colab": {
          "base_uri": "https://localhost:8080/"
        },
        "id": "S8hNbf8hJRjX",
        "outputId": "818541cd-7289-4a36-b04d-992542ff1049"
      },
      "execution_count": 18,
      "outputs": [
        {
          "output_type": "execute_result",
          "data": {
            "text/plain": [
              "array([3, 6, 5], dtype=int32)"
            ]
          },
          "metadata": {},
          "execution_count": 18
        }
      ]
    },
    {
      "cell_type": "code",
      "source": [
        "import matplotlib.pyplot as plt\n",
        " \n",
        "plt.scatter(X[:, 0], X[:,1], s = 100, c = kmeans.labels_)\n",
        "plt.scatter(kmeans.cluster_centers_[:, 0], kmeans.cluster_centers_[:, 1], s = 300, c = 'red',label = 'Centroids')\n",
        "plt.title('Iris Clusters and Centroids')\n",
        "plt.xlabel('SepalLength')\n",
        "plt.ylabel('SepalWidth')\n",
        "plt.legend()\n",
        " \n",
        "plt.show()"
      ],
      "metadata": {
        "colab": {
          "base_uri": "https://localhost:8080/",
          "height": 472
        },
        "id": "QQ_n2w_1JVnW",
        "outputId": "980ba8cc-d437-4b57-9ace-5a1f2117a003"
      },
      "execution_count": 19,
      "outputs": [
        {
          "output_type": "display_data",
          "data": {
            "text/plain": [
              "<Figure size 640x480 with 1 Axes>"
            ],
            "image/png": "[encoded data removed]"
          },
          "metadata": {}
        }
      ]
    },
    {
      "cell_type": "code",
      "source": [
        "# Comentários: Os pontos em vermelho conforme mostra a legenda na parte superior direita do gráfico são os nossos centroides.\n",
        "# Os centroides ficam exatamente no centro dos dados."
      ],
      "metadata": {
        "id": "nTmuzNzzJX-A"
      },
      "execution_count": 20,
      "outputs": []
    },
    {
      "cell_type": "code",
      "source": [],
      "metadata": {
        "id": "wUKCd4NNJbWv"
      },
      "execution_count": null,
      "outputs": []
    }
  ]
}